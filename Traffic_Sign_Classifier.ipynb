{
 "cells": [
  {
   "cell_type": "markdown",
   "metadata": {},
   "source": [
    "# Self-Driving Car Engineer Nanodegree\n",
    "\n",
    "## Deep Learning\n",
    "\n",
    "## Project: Build a Traffic Sign Recognition Classifier\n",
    "\n",
    "In this notebook, a template is provided for you to implement your functionality in stages, which is required to successfully complete this project. If additional code is required that cannot be included in the notebook, be sure that the Python code is successfully imported and included in your submission if necessary. \n",
    "\n",
    "> **Note**: Once you have completed all of the code implementations, you need to finalize your work by exporting the iPython Notebook as an HTML document. Before exporting the notebook to html, all of the code cells need to have been run so that reviewers can see the final implementation and output. You can then export the notebook by using the menu above and navigating to  \\n\",\n",
    "    \"**File -> Download as -> HTML (.html)**. Include the finished document along with this notebook as your submission. \n",
    "\n",
    "In addition to implementing code, there is a writeup to complete. The writeup should be completed in a separate file, which can be either a markdown file or a pdf document. There is a [write up template](https://github.com/udacity/CarND-Traffic-Sign-Classifier-Project/blob/master/writeup_template.md) that can be used to guide the writing process. Completing the code template and writeup template will cover all of the [rubric points](https://review.udacity.com/#!/rubrics/481/view) for this project.\n",
    "\n",
    "The [rubric](https://review.udacity.com/#!/rubrics/481/view) contains \"Stand Out Suggestions\" for enhancing the project beyond the minimum requirements. The stand out suggestions are optional. If you decide to pursue the \"stand out suggestions\", you can include the code in this Ipython notebook and also discuss the results in the writeup file.\n",
    "\n",
    "\n",
    ">**Note:** Code and Markdown cells can be executed using the **Shift + Enter** keyboard shortcut. In addition, Markdown cells can be edited by typically double-clicking the cell to enter edit mode."
   ]
  },
  {
   "cell_type": "markdown",
   "metadata": {},
   "source": [
    "---\n",
    "## Step 0: Load The Data"
   ]
  },
  {
   "cell_type": "code",
   "execution_count": 1,
   "metadata": {},
   "outputs": [],
   "source": [
    "# Load pickled data\n",
    "import pickle\n",
    "from sklearn.utils import shuffle\n",
    "# TODO: Fill this in based on where you saved the training and testing data\n",
    "\n",
    "training_file = 'data/train.p'\n",
    "validation_file= 'data/valid.p'\n",
    "testing_file = 'data/test.p'\n",
    "\n",
    "with open(training_file, mode='rb') as f:\n",
    "    train = pickle.load(f)\n",
    "with open(validation_file, mode='rb') as f:\n",
    "    valid = pickle.load(f)\n",
    "with open(testing_file, mode='rb') as f:\n",
    "    test = pickle.load(f)\n",
    "    \n",
    "X_train, y_train = train['features'], train['labels']\n",
    "X_valid, y_valid = valid['features'], valid['labels']\n",
    "X_test, y_test = test['features'], test['labels']\n",
    "\n",
    "# Shuffle the data\n",
    "X_train, y_train = shuffle(X_train, y_train, random_state=1)\n",
    "X_valid, y_valid = shuffle(X_valid, y_valid, random_state=1)\n",
    "X_test, y_test = shuffle(X_test, y_test, random_state=1)"
   ]
  },
  {
   "cell_type": "markdown",
   "metadata": {},
   "source": [
    "---\n",
    "\n",
    "## Step 1: Dataset Summary & Exploration\n",
    "\n",
    "The pickled data is a dictionary with 4 key/value pairs:\n",
    "\n",
    "- `'features'` is a 4D array containing raw pixel data of the traffic sign images, (num examples, width, height, channels).\n",
    "- `'labels'` is a 1D array containing the label/class id of the traffic sign. The file `signnames.csv` contains id -> name mappings for each id.\n",
    "- `'sizes'` is a list containing tuples, (width, height) representing the original width and height the image.\n",
    "- `'coords'` is a list containing tuples, (x1, y1, x2, y2) representing coordinates of a bounding box around the sign in the image. **THESE COORDINATES ASSUME THE ORIGINAL IMAGE. THE PICKLED DATA CONTAINS RESIZED VERSIONS (32 by 32) OF THESE IMAGES**\n",
    "\n",
    "Complete the basic data summary below. Use python, numpy and/or pandas methods to calculate the data summary rather than hard coding the results. For example, the [pandas shape method](http://pandas.pydata.org/pandas-docs/stable/generated/pandas.DataFrame.shape.html) might be useful for calculating some of the summary results. "
   ]
  },
  {
   "cell_type": "markdown",
   "metadata": {},
   "source": [
    "### Provide a Basic Summary of the Data Set Using Python, Numpy and/or Pandas"
   ]
  },
  {
   "cell_type": "code",
   "execution_count": 2,
   "metadata": {},
   "outputs": [
    {
     "name": "stdout",
     "output_type": "stream",
     "text": [
      "Number of training examples = 34799\n",
      "Number of validation examples = 4410\n",
      "Number of testing examples = 12630\n",
      "Image data shape = (32, 32, 3)\n",
      "Number of classes = 43\n"
     ]
    }
   ],
   "source": [
    "### Replace each question mark with the appropriate value. \n",
    "### Use python, pandas or numpy methods rather than hard coding the results\n",
    "import numpy as np\n",
    "from sklearn import preprocessing\n",
    "from tqdm import tqdm\n",
    "# TODO: Number of training examples\n",
    "n_train = y_train.shape[0]\n",
    "\n",
    "# TODO: Number of validation examples\n",
    "n_validation = y_valid.shape[0]\n",
    "\n",
    "# TODO: Number of testing examples.\n",
    "n_test = y_test.shape[0]\n",
    "\n",
    "# TODO: What's the shape of an traffic sign image?\n",
    "image_shape = X_train[0].shape\n",
    "\n",
    "# TODO: How many unique classes/labels there are in the dataset.\n",
    "lb = preprocessing.LabelBinarizer()\n",
    "n_classes = len(lb.fit(y_train).classes_)\n",
    "\n",
    "\n",
    "print(\"Number of training examples =\", n_train)\n",
    "print(\"Number of validation examples =\", n_validation)\n",
    "print(\"Number of testing examples =\", n_test)\n",
    "print(\"Image data shape =\", image_shape)\n",
    "print(\"Number of classes =\", n_classes)"
   ]
  },
  {
   "cell_type": "markdown",
   "metadata": {},
   "source": [
    "### Include an exploratory visualization of the dataset"
   ]
  },
  {
   "cell_type": "markdown",
   "metadata": {},
   "source": [
    "Visualize the German Traffic Signs Dataset using the pickled file(s). This is open ended, suggestions include: plotting traffic sign images, plotting the count of each sign, etc. \n",
    "\n",
    "The [Matplotlib](http://matplotlib.org/) [examples](http://matplotlib.org/examples/index.html) and [gallery](http://matplotlib.org/gallery.html) pages are a great resource for doing visualizations in Python.\n",
    "\n",
    "**NOTE:** It's recommended you start with something simple first. If you wish to do more, come back to it after you've completed the rest of the sections. It can be interesting to look at the distribution of classes in the training, validation and test set. Is the distribution the same? Are there more examples of some classes than others?"
   ]
  },
  {
   "cell_type": "code",
   "execution_count": 3,
   "metadata": {},
   "outputs": [
    {
     "data": {
      "text/plain": [
       "(array([ 180., 1980., 2010., 1260., 1770., 1650.,  360., 1290., 1260.,\n",
       "        1320., 1800., 1170., 1890., 1920.,  690.,  540.,  360.,  990.,\n",
       "        1080.,  180.,  300.,  270.,  330.,  450.,  240., 1350.,  540.,\n",
       "         210.,  480.,  240.,  390.,  690.,  210.,  599.,  360., 1080.,\n",
       "         330.,  180., 1860.,  270.,  300.,  420.]),\n",
       " array([ 0.,  1.,  2.,  3.,  4.,  5.,  6.,  7.,  8.,  9., 10., 11., 12.,\n",
       "        13., 14., 15., 16., 17., 18., 19., 20., 21., 22., 23., 24., 25.,\n",
       "        26., 27., 28., 29., 30., 31., 32., 33., 34., 35., 36., 37., 38.,\n",
       "        39., 40., 41., 42.]),\n",
       " <a list of 42 Patch objects>)"
      ]
     },
     "execution_count": 3,
     "metadata": {},
     "output_type": "execute_result"
    },
    {
     "data": {
      "image/png": "[encoded data removed]",
      "text/plain": [
       "<Figure size 432x288 with 1 Axes>"
      ]
     },
     "metadata": {},
     "output_type": "display_data"
    }
   ],
   "source": [
    "### Data exploration visualization code goes here.\n",
    "### Feel free to use as many code cells as needed.\n",
    "import matplotlib.pyplot as plt\n",
    "# Visualizations will be shown in the notebook.\n",
    "%matplotlib inline\n",
    "\n",
    "plt.hist(y_train, bins=42)"
   ]
  },
  {
   "cell_type": "markdown",
   "metadata": {},
   "source": [
    "----\n",
    "\n",
    "## Step 2: Design and Test a Model Architecture\n",
    "\n",
    "Design and implement a deep learning model that learns to recognize traffic signs. Train and test your model on the [German Traffic Sign Dataset](http://benchmark.ini.rub.de/?section=gtsrb&subsection=dataset).\n",
    "\n",
    "The LeNet-5 implementation shown in the [classroom](https://classroom.udacity.com/nanodegrees/nd013/parts/fbf77062-5703-404e-b60c-95b78b2f3f9e/modules/6df7ae49-c61c-4bb2-a23e-6527e69209ec/lessons/601ae704-1035-4287-8b11-e2c2716217ad/concepts/d4aca031-508f-4e0b-b493-e7b706120f81) at the end of the CNN lesson is a solid starting point. You'll have to change the number of classes and possibly the preprocessing, but aside from that it's plug and play! \n",
    "\n",
    "With the LeNet-5 solution from the lecture, you should expect a validation set accuracy of about 0.89. To meet specifications, the validation set accuracy will need to be at least 0.93. It is possible to get an even higher accuracy, but 0.93 is the minimum for a successful project submission. \n",
    "\n",
    "There are various aspects to consider when thinking about this problem:\n",
    "\n",
    "- Neural network architecture (is the network over or underfitting?)\n",
    "- Play around preprocessing techniques (normalization, rgb to grayscale, etc)\n",
    "- Number of examples per label (some have more than others).\n",
    "- Generate fake data.\n",
    "\n",
    "Here is an example of a [published baseline model on this problem](http://yann.lecun.com/exdb/publis/pdf/sermanet-ijcnn-11.pdf). It's not required to be familiar with the approach used in the paper but, it's good practice to try to read papers like these."
   ]
  },
  {
   "cell_type": "markdown",
   "metadata": {},
   "source": [
    "### Pre-process the Data Set (normalization, grayscale, etc.)"
   ]
  },
  {
   "cell_type": "markdown",
   "metadata": {},
   "source": [
    "Minimally, the image data should be normalized so that the data has mean zero and equal variance. For image data, `(pixel - 128)/ 128` is a quick way to approximately normalize the data and can be used in this project. \n",
    "\n",
    "Other pre-processing steps are optional. You can try different techniques to see if it improves performance. \n",
    "\n",
    "Use the code cell (or multiple code cells, if necessary) to implement the first step of your project."
   ]
  },
  {
   "cell_type": "code",
   "execution_count": 4,
   "metadata": {
    "scrolled": false
   },
   "outputs": [],
   "source": [
    "### Preprocess the data here. It is required to normalize the data. Other preprocessing steps could include \n",
    "### converting to grayscale, etc.\n",
    "### Feel free to use as many code cells as needed.\n",
    "import cv2\n",
    "\n",
    "def grayscale(images):\n",
    "    img_num = images.shape[0]\n",
    "    images_gray= []\n",
    "    for i in range(img_num):\n",
    "        image = images[i]\n",
    "        img_gray = cv2.cvtColor(image, cv2.COLOR_BGR2GRAY)\n",
    "        images_gray.append(img_gray)\n",
    "    return images_gray\n",
    "\n",
    "# Generalize the images\n",
    "def normalize(images):\n",
    "    images_norm = []\n",
    "    for image in images:\n",
    "        image = image.astype(np.float32)\n",
    "        element_mean = np.mean(image)\n",
    "        element_std = np.std(image)\n",
    "        images_norm.append(((image-element_mean)/element_std).reshape([32,32,1]))\n",
    "    return images_norm"
   ]
  },
  {
   "cell_type": "code",
   "execution_count": 5,
   "metadata": {},
   "outputs": [],
   "source": [
    "# Preprocess the images\n",
    "X_train_norm = normalize(grayscale(X_train))\n",
    "X_valid_norm = normalize(grayscale(X_valid))\n",
    "X_test_norm = normalize(grayscale(X_test))\n",
    "# Binarize the labels\n",
    "y_train_bn = lb.fit_transform(y_train)\n",
    "y_valid_bn = lb.fit_transform(y_valid)\n",
    "y_test_bn = lb.fit_transform(y_test)"
   ]
  },
  {
   "cell_type": "code",
   "execution_count": 6,
   "metadata": {},
   "outputs": [
    {
     "data": {
      "text/plain": [
       "array([ 0,  1,  2,  3,  4,  5,  6,  7,  8,  9, 10, 11, 12, 13, 14, 15, 16,\n",
       "       17, 18, 19, 20, 21, 22, 23, 24, 25, 26, 27, 28, 29, 30, 31, 32, 33,\n",
       "       34, 35, 36, 37, 38, 39, 40, 41, 42], dtype=uint8)"
      ]
     },
     "execution_count": 6,
     "metadata": {},
     "output_type": "execute_result"
    }
   ],
   "source": [
    "lb.fit(y_train).classes_"
   ]
  },
  {
   "cell_type": "markdown",
   "metadata": {},
   "source": [
    "### Model Architecture"
   ]
  },
  {
   "cell_type": "code",
   "execution_count": 7,
   "metadata": {},
   "outputs": [
    {
     "name": "stderr",
     "output_type": "stream",
     "text": [
      "/usr/local/lib/python3.5/dist-packages/h5py/__init__.py:36: FutureWarning: Conversion of the second argument of issubdtype from `float` to `np.floating` is deprecated. In future, it will be treated as `np.float64 == np.dtype(float).type`.\n",
      "  from ._conv import register_converters as _register_converters\n"
     ]
    }
   ],
   "source": [
    "import tensorflow as tf\n",
    "\n",
    "# Define the conv layer\n",
    "def conv(input_layer, kernal_size, filter_num, padding='valid'):\n",
    "    conv = tf.layers.conv2d(\n",
    "        inputs=input_layer,\n",
    "        filters=filter_num, \n",
    "        kernel_size=[kernal_size, kernal_size],\n",
    "        padding=padding,\n",
    "        activation=tf.nn.relu)\n",
    "    return conv\n",
    "\n",
    "# Define the pooling layer\n",
    "def pool(inputs, pool_size, strides):\n",
    "    pool = tf.layers.max_pooling2d(inputs=inputs, pool_size=[pool_size, pool_size], strides=strides)\n",
    "    return pool\n",
    "\n",
    "# Define the fully connected layer\n",
    "def fc(inputs, units, activation='on'):\n",
    "    if activation == 'on':\n",
    "        fc = tf.layers.dense(inputs=inputs, units=units, activation=tf.nn.relu)\n",
    "    else:\n",
    "        fc = tf.layers.dense(inputs=inputs, units=units)\n",
    "    return fc"
   ]
  },
  {
   "cell_type": "code",
   "execution_count": 8,
   "metadata": {},
   "outputs": [],
   "source": [
    "# Define the architecture of the LeNet\n",
    "def LeNet(features, keep_prob): \n",
    "    conv1 = conv(features, 5, 6)\n",
    "    pool1 = pool(conv1, 2, 2)\n",
    "    conv2 = conv(pool1, 5, 10)\n",
    "    pool2 = pool(conv2, 2, 2)\n",
    "    conv3 = conv(pool2, 5, 120)\n",
    "    conv3_flat = tf.reshape(conv3, [-1, 120])\n",
    "    fc1 = fc(conv3_flat, 84)\n",
    "    fc1 = tf.nn.dropout(fc1, keep_prob=keep_prob)\n",
    "    fc2 = fc(fc1, 43, activation='off')\n",
    "    return fc2"
   ]
  },
  {
   "cell_type": "code",
   "execution_count": 9,
   "metadata": {},
   "outputs": [],
   "source": [
    "def MyNet(features, keep_prob): \n",
    "    conv1 = conv(features, 1, 32, padding='same') #[？,32,32,32]\n",
    "    conv1 = conv(conv1, 3, 32, padding='same')    #[？,32,32,32]\n",
    "    conv1 = conv(conv1, 3, 32, padding='same')    #[？,32,32,32]\n",
    "    conv1 = conv(conv1, 3, 32, padding='same')    #[？,32,32,32]    \n",
    "    pool1 = pool(conv1, 2, 2)                     #[？,16,16,32]\n",
    "    conv2 = conv(pool1, 3, 32, padding='same')    #[？,16,16,32]\n",
    "    conv2 = conv(conv2, 3, 32, padding='same')    #[？,16,16,32]\n",
    "    conv2 = conv(conv2, 3, 32, padding='same')    #[？,16,16,32]\n",
    "    pool2 = pool(conv2, 2, 2)                     #[？,8,8,32]\n",
    "    conv3 = conv(pool2, 3, 32, padding='same')    #[？,8,8,32]\n",
    "    conv3 = conv(pool2, 3, 32, padding='same')    #[？,8,8,32]\n",
    "    conv3 = conv(conv3, 3, 32, padding='same')    #[？,8,8,32]\n",
    "    pool3 = pool(conv3, 2, 2)                     #[？,4,4,32]\n",
    "    conv4 = conv(pool3, 4, 512)\n",
    "    conv4_flat = tf.reshape(conv4, [-1, 512])\n",
    "    conv4_flat = tf.nn.dropout(conv4_flat, keep_prob=keep_prob)\n",
    "    fc1 = fc(conv4_flat, 120)\n",
    "    fc1 = tf.nn.dropout(fc1, keep_prob=keep_prob)\n",
    "    fc2 = fc(fc1, 43, activation='off')\n",
    "    return fc2"
   ]
  },
  {
   "cell_type": "markdown",
   "metadata": {},
   "source": [
    "### Train, Validate and Test the Model"
   ]
  },
  {
   "cell_type": "markdown",
   "metadata": {},
   "source": [
    "A validation set can be used to assess how well the model is performing. A low accuracy on the training and validation\n",
    "sets imply underfitting. A high accuracy on the training set but low accuracy on the validation set implies overfitting."
   ]
  },
  {
   "cell_type": "code",
   "execution_count": 9,
   "metadata": {
    "scrolled": true
   },
   "outputs": [
    {
     "name": "stdout",
     "output_type": "stream",
     "text": [
      "Epoch 0 - Validation Accuracy: 0.4344671070575714, Test_accuracy: 0.4542359411716461\n",
      "Epoch 10 - Validation Accuracy: 0.9090703129768372, Test_accuracy: 0.9018210768699646\n",
      "Epoch 20 - Validation Accuracy: 0.9303854703903198, Test_accuracy: 0.9199525117874146\n",
      "Epoch 30 - Validation Accuracy: 0.942630410194397, Test_accuracy: 0.9273951053619385\n",
      "Epoch 40 - Validation Accuracy: 0.9419501423835754, Test_accuracy: 0.9294536709785461\n",
      "Epoch 50 - Validation Accuracy: 0.9464852809906006, Test_accuracy: 0.9319873452186584\n",
      "Epoch 60 - Validation Accuracy: 0.9503401517868042, Test_accuracy: 0.9304038286209106\n",
      "Epoch 70 - Validation Accuracy: 0.9462584853172302, Test_accuracy: 0.929057776927948\n",
      "Epoch 80 - Validation Accuracy: 0.9503401517868042, Test_accuracy: 0.9333333373069763\n",
      "Epoch 90 - Validation Accuracy: 0.9519274234771729, Test_accuracy: 0.931908130645752\n",
      "Epoch 100 - Validation Accuracy: 0.9514739513397217, Test_accuracy: 0.9315914511680603\n",
      "Epoch 110 - Validation Accuracy: 0.9519274234771729, Test_accuracy: 0.9313539266586304\n",
      "Epoch 120 - Validation Accuracy: 0.9444444179534912, Test_accuracy: 0.9334917068481445\n",
      "Epoch 130 - Validation Accuracy: 0.9517006874084473, Test_accuracy: 0.9317498207092285\n",
      "Epoch 140 - Validation Accuracy: 0.9507936239242554, Test_accuracy: 0.9302454590797424\n",
      "Epoch 150 - Validation Accuracy: 0.9514739513397217, Test_accuracy: 0.9323040246963501\n",
      "Epoch 160 - Validation Accuracy: 0.9512471556663513, Test_accuracy: 0.936262845993042\n",
      "Epoch 170 - Validation Accuracy: 0.9482993483543396, Test_accuracy: 0.9332541823387146\n",
      "Epoch 180 - Validation Accuracy: 0.9548752903938293, Test_accuracy: 0.9348376989364624\n",
      "Epoch 190 - Validation Accuracy: 0.9528344869613647, Test_accuracy: 0.933412492275238\n",
      "Epoch 200 - Validation Accuracy: 0.9462584853172302, Test_accuracy: 0.9297704100608826\n"
     ]
    }
   ],
   "source": [
    "# LeNet with dropout layer\n",
    "tf.reset_default_graph()\n",
    "features = tf.placeholder(tf.float32, shape=[None, 32, 32,1])\n",
    "labels = tf.placeholder(tf.float32, shape=[None, 43])\n",
    "keep_prob = tf.placeholder(tf.float32, shape=[])\n",
    "logits = LeNet(features, keep_prob)\n",
    "loss = tf.reduce_mean(tf.losses.softmax_cross_entropy(\n",
    "    onehot_labels=labels, logits=logits))\n",
    "correct_prediction = tf.equal(tf.argmax(logits,1), tf.argmax(labels,1))\n",
    "accuracy = tf.reduce_mean(tf.cast(correct_prediction, 'float32'))\n",
    "optimizer = tf.train.AdamOptimizer(learning_rate=0.001).minimize(loss)\n",
    "epoches = 201\n",
    "batchsize = 500\n",
    "save_file = './model_save/LeNet.ckpt'\n",
    "saver = tf.train.Saver()\n",
    "with tf.Session() as sess:\n",
    "    sess.run(tf.global_variables_initializer())\n",
    "    for i in range(epoches):\n",
    "        for batch_start in range(0, n_train, batchsize):\n",
    "            batch_features = X_train_norm[batch_start:batch_start + batchsize]\n",
    "            batch_labels = y_train_bn[batch_start:batch_start + batchsize]\n",
    "            sess.run(optimizer, feed_dict={features:batch_features, labels:batch_labels, keep_prob: 0.3 })\n",
    "        if i%10 == 0:\n",
    "            test_accuracy = sess.run(accuracy, feed_dict={features: X_test_norm, labels: y_test_bn, keep_prob: 1.0})\n",
    "            valid_accuracy = sess.run(accuracy, feed_dict={features: X_valid_norm, labels: y_valid_bn, keep_prob: 1.0})\n",
    "            print('Epoch {} - Validation Accuracy: {}, Test_accuracy: {}'.format(i,valid_accuracy,test_accuracy))\n",
    "    saver.save(sess, save_file)"
   ]
  },
  {
   "cell_type": "code",
   "execution_count": 10,
   "metadata": {
    "scrolled": true
   },
   "outputs": [
    {
     "name": "stdout",
     "output_type": "stream",
     "text": [
      "Epoch 0 - Validation Accuracy: 0.24875283241271973, Test_accuracy: 0.26215359568595886\n",
      "Epoch 20 - Validation Accuracy: 0.9827664494514465, Test_accuracy: 0.957878053188324\n",
      "Epoch 40 - Validation Accuracy: 0.981632649898529, Test_accuracy: 0.9612034559249878\n",
      "Epoch 60 - Validation Accuracy: 0.9789115786552429, Test_accuracy: 0.965716540813446\n",
      "Epoch 80 - Validation Accuracy: 0.983900249004364, Test_accuracy: 0.9707838296890259\n",
      "Epoch 100 - Validation Accuracy: 0.9807256460189819, Test_accuracy: 0.9626286625862122\n",
      "Epoch 120 - Validation Accuracy: 0.9877551198005676, Test_accuracy: 0.9710213541984558\n",
      "Epoch 140 - Validation Accuracy: 0.9897959232330322, Test_accuracy: 0.9745843410491943\n",
      "Epoch 160 - Validation Accuracy: 0.9811791181564331, Test_accuracy: 0.9695962071418762\n",
      "Epoch 180 - Validation Accuracy: 0.9850339889526367, Test_accuracy: 0.9704671502113342\n",
      "Epoch 200 - Validation Accuracy: 0.9857142567634583, Test_accuracy: 0.967695951461792\n"
     ]
    }
   ],
   "source": [
    "# MyNet \n",
    "# Pretrain the model\n",
    "tf.reset_default_graph()\n",
    "features = tf.placeholder(tf.float32, shape=[None, 32, 32, 1])\n",
    "labels = tf.placeholder(tf.float32, shape=[None, 43])\n",
    "keep_prob = tf.placeholder(tf.float32, shape=[])\n",
    "logits = MyNet(features, keep_prob)\n",
    "loss = tf.reduce_mean(tf.losses.softmax_cross_entropy(\n",
    "    onehot_labels=labels, logits=logits))\n",
    "correct_prediction = tf.equal(tf.argmax(logits,1), tf.argmax(labels,1))\n",
    "accuracy = tf.reduce_mean(tf.cast(correct_prediction, 'float32'))\n",
    "optimizer = tf.train.AdamOptimizer(learning_rate=0.001).minimize(loss)\n",
    "epoches = 201\n",
    "batchsize = 500\n",
    "save_file = './model_save/MyNet.ckpt'\n",
    "saver = tf.train.Saver()\n",
    "with tf.Session() as sess:\n",
    "    sess.run(tf.global_variables_initializer())\n",
    "    for i in range(epoches):\n",
    "        for batch_start in range(0, n_train, batchsize):\n",
    "            batch_features = X_train_norm[batch_start:batch_start + batchsize]\n",
    "            batch_labels = y_train_bn[batch_start:batch_start + batchsize]\n",
    "            sess.run(optimizer, feed_dict={features:batch_features, labels:batch_labels, keep_prob: 0.3 })\n",
    "        if i%20== 0:\n",
    "            test_accuracy = sess.run(accuracy, feed_dict={features: X_test_norm, labels: y_test_bn, keep_prob: 1.0})\n",
    "            valid_accuracy = sess.run(accuracy, feed_dict={features: X_valid_norm, labels: y_valid_bn, keep_prob: 1.0})\n",
    "            print('Epoch {} - Validation Accuracy: {}, Test_accuracy: {}'.format(i,valid_accuracy,test_accuracy))\n",
    "    saver.save(sess, save_file)"
   ]
  },
  {
   "cell_type": "code",
   "execution_count": 11,
   "metadata": {
    "scrolled": true
   },
   "outputs": [
    {
     "name": "stdout",
     "output_type": "stream",
     "text": [
      "INFO:tensorflow:Restoring parameters from ./model_save/MyNet.ckpt\n",
      "Epoch 0 - Validation Accuracy: 0.9850339889526367, Test_accuracy: 0.9733966588973999\n",
      "Model saved 0.97339666\n",
      "Epoch 1 - Validation Accuracy: 0.9825396537780762, Test_accuracy: 0.9684877395629883\n",
      "Epoch 2 - Validation Accuracy: 0.9825396537780762, Test_accuracy: 0.9690419435501099\n",
      "Epoch 3 - Validation Accuracy: 0.9841269850730896, Test_accuracy: 0.974901020526886\n",
      "Model saved 0.974901\n",
      "Epoch 4 - Validation Accuracy: 0.9850339889526367, Test_accuracy: 0.9730007648468018\n",
      "Epoch 5 - Validation Accuracy: 0.9841269850730896, Test_accuracy: 0.9733175039291382\n",
      "Epoch 6 - Validation Accuracy: 0.9859410524368286, Test_accuracy: 0.9715756177902222\n",
      "Epoch 7 - Validation Accuracy: 0.9850339889526367, Test_accuracy: 0.97315913438797\n",
      "Epoch 8 - Validation Accuracy: 0.9852607846260071, Test_accuracy: 0.9755344390869141\n",
      "Model saved 0.97553444\n",
      "Epoch 9 - Validation Accuracy: 0.9786847829818726, Test_accuracy: 0.9627870321273804\n",
      "Epoch 10 - Validation Accuracy: 0.9893423914909363, Test_accuracy: 0.9641330242156982\n",
      "Epoch 11 - Validation Accuracy: 0.9850339889526367, Test_accuracy: 0.9673792719841003\n",
      "Epoch 12 - Validation Accuracy: 0.9850339889526367, Test_accuracy: 0.9695962071418762\n",
      "Epoch 13 - Validation Accuracy: 0.9836734533309937, Test_accuracy: 0.9701504111289978\n",
      "Epoch 14 - Validation Accuracy: 0.9845805168151855, Test_accuracy: 0.9718131422996521\n",
      "Epoch 15 - Validation Accuracy: 0.9836734533309937, Test_accuracy: 0.972288191318512\n",
      "Epoch 16 - Validation Accuracy: 0.980272114276886, Test_accuracy: 0.9703879356384277\n",
      "Epoch 17 - Validation Accuracy: 0.9843537211418152, Test_accuracy: 0.9689627885818481\n",
      "Epoch 18 - Validation Accuracy: 0.9807256460189819, Test_accuracy: 0.9586698412895203\n",
      "Epoch 19 - Validation Accuracy: 0.9841269850730896, Test_accuracy: 0.9638954997062683\n",
      "Epoch 20 - Validation Accuracy: 0.9863945841789246, Test_accuracy: 0.9674584269523621\n",
      "Epoch 21 - Validation Accuracy: 0.9888888597488403, Test_accuracy: 0.9726049304008484\n",
      "Epoch 22 - Validation Accuracy: 0.9895691871643066, Test_accuracy: 0.9690419435501099\n",
      "Epoch 23 - Validation Accuracy: 0.9891156554222107, Test_accuracy: 0.9707838296890259\n",
      "Epoch 24 - Validation Accuracy: 0.9882085919380188, Test_accuracy: 0.9723674058914185\n",
      "Epoch 25 - Validation Accuracy: 0.9861677885055542, Test_accuracy: 0.9690419435501099\n",
      "Epoch 26 - Validation Accuracy: 0.9845805168151855, Test_accuracy: 0.9723674058914185\n",
      "Epoch 27 - Validation Accuracy: 0.9888888597488403, Test_accuracy: 0.971179723739624\n",
      "Epoch 28 - Validation Accuracy: 0.9861677885055542, Test_accuracy: 0.972050666809082\n",
      "Epoch 29 - Validation Accuracy: 0.9741496443748474, Test_accuracy: 0.9612034559249878\n",
      "Epoch 30 - Validation Accuracy: 0.9825396537780762, Test_accuracy: 0.9634996056556702\n",
      "Epoch 31 - Validation Accuracy: 0.9836734533309937, Test_accuracy: 0.9597783088684082\n",
      "Epoch 32 - Validation Accuracy: 0.9827664494514465, Test_accuracy: 0.9617577195167542\n",
      "Epoch 33 - Validation Accuracy: 0.9852607846260071, Test_accuracy: 0.96856689453125\n",
      "Epoch 34 - Validation Accuracy: 0.982086181640625, Test_accuracy: 0.9664291143417358\n",
      "Epoch 35 - Validation Accuracy: 0.9832199811935425, Test_accuracy: 0.9681710004806519\n",
      "Epoch 36 - Validation Accuracy: 0.9866213202476501, Test_accuracy: 0.9666666388511658\n",
      "Epoch 37 - Validation Accuracy: 0.9854875206947327, Test_accuracy: 0.965083122253418\n",
      "Epoch 38 - Validation Accuracy: 0.9843537211418152, Test_accuracy: 0.9643705487251282\n",
      "Epoch 39 - Validation Accuracy: 0.9866213202476501, Test_accuracy: 0.9726049304008484\n",
      "Epoch 40 - Validation Accuracy: 0.9873015880584717, Test_accuracy: 0.9722090363502502\n",
      "Epoch 41 - Validation Accuracy: 0.9870748519897461, Test_accuracy: 0.9691211581230164\n",
      "Epoch 42 - Validation Accuracy: 0.9884353876113892, Test_accuracy: 0.972288191318512\n",
      "Epoch 43 - Validation Accuracy: 0.9861677885055542, Test_accuracy: 0.9708630442619324\n",
      "Epoch 44 - Validation Accuracy: 0.9904761910438538, Test_accuracy: 0.9724465608596802\n",
      "Epoch 45 - Validation Accuracy: 0.9857142567634583, Test_accuracy: 0.9703879356384277\n",
      "Epoch 46 - Validation Accuracy: 0.9857142567634583, Test_accuracy: 0.974663496017456\n",
      "Epoch 47 - Validation Accuracy: 0.9848072528839111, Test_accuracy: 0.9726049304008484\n",
      "Epoch 48 - Validation Accuracy: 0.9859410524368286, Test_accuracy: 0.9708630442619324\n",
      "Epoch 49 - Validation Accuracy: 0.9873015880584717, Test_accuracy: 0.9726049304008484\n",
      "Epoch 50 - Validation Accuracy: 0.9852607846260071, Test_accuracy: 0.9736341834068298\n",
      "Epoch 51 - Validation Accuracy: 0.9866213202476501, Test_accuracy: 0.9736341834068298\n",
      "Epoch 52 - Validation Accuracy: 0.9873015880584717, Test_accuracy: 0.9743468165397644\n",
      "Epoch 53 - Validation Accuracy: 0.9863945841789246, Test_accuracy: 0.9702296257019043\n",
      "Epoch 54 - Validation Accuracy: 0.9870748519897461, Test_accuracy: 0.9707838296890259\n",
      "Epoch 55 - Validation Accuracy: 0.9882085919380188, Test_accuracy: 0.9686461091041565\n",
      "Epoch 56 - Validation Accuracy: 0.9832199811935425, Test_accuracy: 0.9636579751968384\n",
      "Epoch 57 - Validation Accuracy: 0.9818593859672546, Test_accuracy: 0.9684085249900818\n",
      "Epoch 58 - Validation Accuracy: 0.9891156554222107, Test_accuracy: 0.9716547727584839\n",
      "Epoch 59 - Validation Accuracy: 0.9789115786552429, Test_accuracy: 0.967695951461792\n",
      "Epoch 60 - Validation Accuracy: 0.980272114276886, Test_accuracy: 0.9695170521736145\n",
      "Epoch 61 - Validation Accuracy: 0.9852607846260071, Test_accuracy: 0.9661124348640442\n",
      "Epoch 62 - Validation Accuracy: 0.9841269850730896, Test_accuracy: 0.969437837600708\n",
      "Epoch 63 - Validation Accuracy: 0.9823129177093506, Test_accuracy: 0.9657956957817078\n",
      "Epoch 64 - Validation Accuracy: 0.9861677885055542, Test_accuracy: 0.96421217918396\n",
      "Epoch 65 - Validation Accuracy: 0.9848072528839111, Test_accuracy: 0.9699128866195679\n",
      "Epoch 66 - Validation Accuracy: 0.9877551198005676, Test_accuracy: 0.9707838296890259\n",
      "Epoch 67 - Validation Accuracy: 0.9863945841789246, Test_accuracy: 0.96856689453125\n",
      "Epoch 68 - Validation Accuracy: 0.9854875206947327, Test_accuracy: 0.9707838296890259\n",
      "Epoch 69 - Validation Accuracy: 0.9827664494514465, Test_accuracy: 0.9665083289146423\n",
      "Epoch 70 - Validation Accuracy: 0.9841269850730896, Test_accuracy: 0.9679334759712219\n",
      "Epoch 71 - Validation Accuracy: 0.9852607846260071, Test_accuracy: 0.9684085249900818\n",
      "Epoch 72 - Validation Accuracy: 0.9854875206947327, Test_accuracy: 0.9688836336135864\n",
      "Epoch 73 - Validation Accuracy: 0.9875283241271973, Test_accuracy: 0.9712588787078857\n",
      "Epoch 74 - Validation Accuracy: 0.9852607846260071, Test_accuracy: 0.970546305179596\n",
      "Epoch 75 - Validation Accuracy: 0.9852607846260071, Test_accuracy: 0.9741092920303345\n",
      "Epoch 76 - Validation Accuracy: 0.9868480563163757, Test_accuracy: 0.9706255197525024\n",
      "Epoch 77 - Validation Accuracy: 0.9859410524368286, Test_accuracy: 0.9708630442619324\n",
      "Epoch 78 - Validation Accuracy: 0.9866213202476501, Test_accuracy: 0.9730007648468018\n",
      "Epoch 79 - Validation Accuracy: 0.9868480563163757, Test_accuracy: 0.9674584269523621\n",
      "Epoch 80 - Validation Accuracy: 0.9827664494514465, Test_accuracy: 0.9733175039291382\n",
      "Epoch 81 - Validation Accuracy: 0.9866213202476501, Test_accuracy: 0.9630245566368103\n",
      "Epoch 82 - Validation Accuracy: 0.9859410524368286, Test_accuracy: 0.9706255197525024\n",
      "Epoch 83 - Validation Accuracy: 0.9897959232330322, Test_accuracy: 0.970308780670166\n",
      "Epoch 84 - Validation Accuracy: 0.9907029271125793, Test_accuracy: 0.97292160987854\n",
      "Epoch 85 - Validation Accuracy: 0.9902494549751282, Test_accuracy: 0.9726049304008484\n",
      "Epoch 86 - Validation Accuracy: 0.9920634627342224, Test_accuracy: 0.97315913438797\n",
      "Epoch 87 - Validation Accuracy: 0.9904761910438538, Test_accuracy: 0.9730799794197083\n",
      "Epoch 88 - Validation Accuracy: 0.9909297227859497, Test_accuracy: 0.9696753621101379\n",
      "Epoch 89 - Validation Accuracy: 0.9823129177093506, Test_accuracy: 0.9651623368263245\n",
      "Epoch 90 - Validation Accuracy: 0.9854875206947327, Test_accuracy: 0.9679334759712219\n",
      "Epoch 91 - Validation Accuracy: 0.9909297227859497, Test_accuracy: 0.9692003130912781\n",
      "Epoch 92 - Validation Accuracy: 0.9897959232330322, Test_accuracy: 0.9691211581230164\n",
      "Epoch 93 - Validation Accuracy: 0.9911564588546753, Test_accuracy: 0.9733966588973999\n",
      "Epoch 94 - Validation Accuracy: 0.9882085919380188, Test_accuracy: 0.9719715118408203\n"
     ]
    },
    {
     "name": "stdout",
     "output_type": "stream",
     "text": [
      "Epoch 95 - Validation Accuracy: 0.9870748519897461, Test_accuracy: 0.9714964628219604\n",
      "Epoch 96 - Validation Accuracy: 0.9870748519897461, Test_accuracy: 0.9711005687713623\n",
      "Epoch 97 - Validation Accuracy: 0.9861677885055542, Test_accuracy: 0.9663499593734741\n",
      "Epoch 98 - Validation Accuracy: 0.9904761910438538, Test_accuracy: 0.9717339873313904\n",
      "Epoch 99 - Validation Accuracy: 0.9857142567634583, Test_accuracy: 0.9682502150535583\n",
      "Epoch 100 - Validation Accuracy: 0.9916099905967712, Test_accuracy: 0.9721298217773438\n",
      "Epoch 101 - Validation Accuracy: 0.9897959232330322, Test_accuracy: 0.9700712561607361\n",
      "Epoch 102 - Validation Accuracy: 0.9904761910438538, Test_accuracy: 0.9698337316513062\n",
      "Epoch 103 - Validation Accuracy: 0.9832199811935425, Test_accuracy: 0.9697545766830444\n",
      "Epoch 104 - Validation Accuracy: 0.9854875206947327, Test_accuracy: 0.9673000574111938\n",
      "Epoch 105 - Validation Accuracy: 0.9848072528839111, Test_accuracy: 0.9722090363502502\n",
      "Epoch 106 - Validation Accuracy: 0.9886621236801147, Test_accuracy: 0.9684085249900818\n",
      "Epoch 107 - Validation Accuracy: 0.9852607846260071, Test_accuracy: 0.9713380932807922\n",
      "Epoch 108 - Validation Accuracy: 0.9850339889526367, Test_accuracy: 0.9684877395629883\n",
      "Epoch 109 - Validation Accuracy: 0.9902494549751282, Test_accuracy: 0.9695170521736145\n",
      "Epoch 110 - Validation Accuracy: 0.9911564588546753, Test_accuracy: 0.9761678576469421\n",
      "Model saved 0.97616786\n",
      "Epoch 111 - Validation Accuracy: 0.9877551198005676, Test_accuracy: 0.9725257158279419\n",
      "Epoch 112 - Validation Accuracy: 0.9884353876113892, Test_accuracy: 0.9727632403373718\n",
      "Epoch 113 - Validation Accuracy: 0.9879818558692932, Test_accuracy: 0.9768012762069702\n",
      "Model saved 0.9768013\n",
      "Epoch 114 - Validation Accuracy: 0.9882085919380188, Test_accuracy: 0.9724465608596802\n",
      "Epoch 115 - Validation Accuracy: 0.9891156554222107, Test_accuracy: 0.973792552947998\n",
      "Epoch 116 - Validation Accuracy: 0.9900226593017578, Test_accuracy: 0.9726840853691101\n",
      "Epoch 117 - Validation Accuracy: 0.9895691871643066, Test_accuracy: 0.9733175039291382\n",
      "Epoch 118 - Validation Accuracy: 0.9897959232330322, Test_accuracy: 0.9724465608596802\n",
      "Epoch 119 - Validation Accuracy: 0.9913831949234009, Test_accuracy: 0.974663496017456\n",
      "Epoch 120 - Validation Accuracy: 0.9891156554222107, Test_accuracy: 0.9725257158279419\n",
      "Epoch 121 - Validation Accuracy: 0.9913831949234009, Test_accuracy: 0.9728424549102783\n",
      "Epoch 122 - Validation Accuracy: 0.9909297227859497, Test_accuracy: 0.9764053821563721\n",
      "Epoch 123 - Validation Accuracy: 0.9925169944763184, Test_accuracy: 0.9758511185646057\n",
      "Epoch 124 - Validation Accuracy: 0.9875283241271973, Test_accuracy: 0.9723674058914185\n",
      "Epoch 125 - Validation Accuracy: 0.9863945841789246, Test_accuracy: 0.97315913438797\n",
      "Epoch 126 - Validation Accuracy: 0.982086181640625, Test_accuracy: 0.9672209024429321\n",
      "Epoch 127 - Validation Accuracy: 0.9866213202476501, Test_accuracy: 0.9667458534240723\n",
      "Epoch 128 - Validation Accuracy: 0.9850339889526367, Test_accuracy: 0.9658749103546143\n",
      "Epoch 129 - Validation Accuracy: 0.9859410524368286, Test_accuracy: 0.9697545766830444\n",
      "Epoch 130 - Validation Accuracy: 0.9854875206947327, Test_accuracy: 0.9660332798957825\n",
      "Epoch 131 - Validation Accuracy: 0.9807256460189819, Test_accuracy: 0.9621536135673523\n",
      "Epoch 132 - Validation Accuracy: 0.9854875206947327, Test_accuracy: 0.970546305179596\n",
      "Epoch 133 - Validation Accuracy: 0.9863945841789246, Test_accuracy: 0.9738717079162598\n",
      "Epoch 134 - Validation Accuracy: 0.9845805168151855, Test_accuracy: 0.9735550284385681\n",
      "Epoch 135 - Validation Accuracy: 0.9861677885055542, Test_accuracy: 0.9693586826324463\n",
      "Epoch 136 - Validation Accuracy: 0.9877551198005676, Test_accuracy: 0.9707838296890259\n",
      "Epoch 137 - Validation Accuracy: 0.983900249004364, Test_accuracy: 0.9692003130912781\n",
      "Epoch 138 - Validation Accuracy: 0.9854875206947327, Test_accuracy: 0.9675375819206238\n",
      "Epoch 139 - Validation Accuracy: 0.9818593859672546, Test_accuracy: 0.9697545766830444\n",
      "Epoch 140 - Validation Accuracy: 0.9827664494514465, Test_accuracy: 0.9671417474746704\n",
      "Epoch 141 - Validation Accuracy: 0.9854875206947327, Test_accuracy: 0.9692794680595398\n",
      "Epoch 142 - Validation Accuracy: 0.9850339889526367, Test_accuracy: 0.9696753621101379\n",
      "Epoch 143 - Validation Accuracy: 0.9832199811935425, Test_accuracy: 0.9686461091041565\n",
      "Epoch 144 - Validation Accuracy: 0.9859410524368286, Test_accuracy: 0.9709421992301941\n",
      "Epoch 145 - Validation Accuracy: 0.9857142567634583, Test_accuracy: 0.9716547727584839\n",
      "Epoch 146 - Validation Accuracy: 0.9866213202476501, Test_accuracy: 0.9681710004806519\n",
      "Epoch 147 - Validation Accuracy: 0.9854875206947327, Test_accuracy: 0.970308780670166\n",
      "Epoch 148 - Validation Accuracy: 0.9863945841789246, Test_accuracy: 0.972288191318512\n",
      "Epoch 149 - Validation Accuracy: 0.9904761910438538, Test_accuracy: 0.971179723739624\n",
      "Epoch 150 - Validation Accuracy: 0.9868480563163757, Test_accuracy: 0.972050666809082\n",
      "Epoch 151 - Validation Accuracy: 0.9886621236801147, Test_accuracy: 0.9718922972679138\n",
      "Epoch 152 - Validation Accuracy: 0.9829931855201721, Test_accuracy: 0.9625495076179504\n",
      "Epoch 153 - Validation Accuracy: 0.9843537211418152, Test_accuracy: 0.967695951461792\n",
      "Epoch 154 - Validation Accuracy: 0.9825396537780762, Test_accuracy: 0.9626286625862122\n",
      "Epoch 155 - Validation Accuracy: 0.9809523820877075, Test_accuracy: 0.9643705487251282\n",
      "Epoch 156 - Validation Accuracy: 0.9823129177093506, Test_accuracy: 0.9741884469985962\n",
      "Epoch 157 - Validation Accuracy: 0.9827664494514465, Test_accuracy: 0.973792552947998\n",
      "Epoch 158 - Validation Accuracy: 0.9841269850730896, Test_accuracy: 0.972288191318512\n",
      "Epoch 159 - Validation Accuracy: 0.9850339889526367, Test_accuracy: 0.9643705487251282\n",
      "Epoch 160 - Validation Accuracy: 0.9848072528839111, Test_accuracy: 0.9646872282028198\n",
      "Epoch 161 - Validation Accuracy: 0.9807256460189819, Test_accuracy: 0.9645289182662964\n",
      "Epoch 162 - Validation Accuracy: 0.9825396537780762, Test_accuracy: 0.9697545766830444\n",
      "Epoch 163 - Validation Accuracy: 0.9807256460189819, Test_accuracy: 0.9678543210029602\n",
      "Epoch 164 - Validation Accuracy: 0.9759637117385864, Test_accuracy: 0.9678543210029602\n",
      "Epoch 165 - Validation Accuracy: 0.9829931855201721, Test_accuracy: 0.9638954997062683\n",
      "Epoch 166 - Validation Accuracy: 0.9861677885055542, Test_accuracy: 0.9669042229652405\n",
      "Epoch 167 - Validation Accuracy: 0.9836734533309937, Test_accuracy: 0.9693586826324463\n",
      "Epoch 168 - Validation Accuracy: 0.9845805168151855, Test_accuracy: 0.96856689453125\n",
      "Epoch 169 - Validation Accuracy: 0.9845805168151855, Test_accuracy: 0.96856689453125\n",
      "Epoch 170 - Validation Accuracy: 0.9843537211418152, Test_accuracy: 0.9687252640724182\n",
      "Epoch 171 - Validation Accuracy: 0.9834467172622681, Test_accuracy: 0.9679334759712219\n",
      "Epoch 172 - Validation Accuracy: 0.983900249004364, Test_accuracy: 0.9697545766830444\n",
      "Epoch 173 - Validation Accuracy: 0.9852607846260071, Test_accuracy: 0.9722090363502502\n",
      "Epoch 174 - Validation Accuracy: 0.9848072528839111, Test_accuracy: 0.9707838296890259\n",
      "Epoch 175 - Validation Accuracy: 0.9861677885055542, Test_accuracy: 0.9709421992301941\n",
      "Epoch 176 - Validation Accuracy: 0.9850339889526367, Test_accuracy: 0.9704671502113342\n",
      "Epoch 177 - Validation Accuracy: 0.9836734533309937, Test_accuracy: 0.969437837600708\n",
      "Epoch 178 - Validation Accuracy: 0.9843537211418152, Test_accuracy: 0.9715756177902222\n",
      "Epoch 179 - Validation Accuracy: 0.9827664494514465, Test_accuracy: 0.9703879356384277\n",
      "Epoch 180 - Validation Accuracy: 0.9852607846260071, Test_accuracy: 0.9724465608596802\n",
      "Epoch 181 - Validation Accuracy: 0.9873015880584717, Test_accuracy: 0.97315913438797\n",
      "Epoch 182 - Validation Accuracy: 0.9836734533309937, Test_accuracy: 0.9726840853691101\n",
      "Epoch 183 - Validation Accuracy: 0.9852607846260071, Test_accuracy: 0.9739509224891663\n",
      "Epoch 184 - Validation Accuracy: 0.9882085919380188, Test_accuracy: 0.973792552947998\n",
      "Epoch 185 - Validation Accuracy: 0.9870748519897461, Test_accuracy: 0.9728424549102783\n",
      "Epoch 186 - Validation Accuracy: 0.982086181640625, Test_accuracy: 0.9605700969696045\n",
      "Epoch 187 - Validation Accuracy: 0.9843537211418152, Test_accuracy: 0.9689627885818481\n",
      "Epoch 188 - Validation Accuracy: 0.9854875206947327, Test_accuracy: 0.9704671502113342\n"
     ]
    },
    {
     "name": "stdout",
     "output_type": "stream",
     "text": [
      "Epoch 189 - Validation Accuracy: 0.9841269850730896, Test_accuracy: 0.9699128866195679\n",
      "Epoch 190 - Validation Accuracy: 0.9827664494514465, Test_accuracy: 0.96856689453125\n",
      "Epoch 191 - Validation Accuracy: 0.9789115786552429, Test_accuracy: 0.9653206467628479\n",
      "Epoch 192 - Validation Accuracy: 0.9743764400482178, Test_accuracy: 0.9564529061317444\n",
      "Epoch 193 - Validation Accuracy: 0.9764172434806824, Test_accuracy: 0.9653998613357544\n",
      "Epoch 194 - Validation Accuracy: 0.9818593859672546, Test_accuracy: 0.967695951461792\n",
      "Epoch 195 - Validation Accuracy: 0.9786847829818726, Test_accuracy: 0.9709421992301941\n",
      "Epoch 196 - Validation Accuracy: 0.9834467172622681, Test_accuracy: 0.97292160987854\n",
      "Epoch 197 - Validation Accuracy: 0.9843537211418152, Test_accuracy: 0.9732383489608765\n",
      "Epoch 198 - Validation Accuracy: 0.9854875206947327, Test_accuracy: 0.9717339873313904\n",
      "Epoch 199 - Validation Accuracy: 0.9850339889526367, Test_accuracy: 0.97315913438797\n",
      "Epoch 200 - Validation Accuracy: 0.9868480563163757, Test_accuracy: 0.973792552947998\n"
     ]
    }
   ],
   "source": [
    "# MyNet \n",
    "# Retrain the model and save the best one\n",
    "# Change the number of epoches and train the model for several rounds\n",
    "tf.reset_default_graph()\n",
    "features = tf.placeholder(tf.float32, shape=[None, 32, 32,1])\n",
    "labels = tf.placeholder(tf.float32, shape=[None, 43])\n",
    "keep_prob = tf.placeholder(tf.float32, shape=[])\n",
    "logits = MyNet(features, keep_prob)\n",
    "loss = tf.reduce_mean(tf.losses.softmax_cross_entropy(\n",
    "    onehot_labels=labels, logits=logits))\n",
    "correct_prediction = tf.equal(tf.argmax(logits,1), tf.argmax(labels,1))\n",
    "accuracy = tf.reduce_mean(tf.cast(correct_prediction, 'float32'))\n",
    "optimizer = tf.train.AdamOptimizer(learning_rate=0.001).minimize(loss)\n",
    "epoches = 201\n",
    "batchsize = 500\n",
    "cache_accuracy = 0.0\n",
    "save_file = './model_save/MyNet.ckpt'\n",
    "saver = tf.train.Saver()\n",
    "with tf.Session() as sess:\n",
    "    # sess.run(tf.global_variables_initializer())\n",
    "    saver.restore(sess, save_file)\n",
    "    n = 0\n",
    "    for i in range(epoches):\n",
    "        for batch_start in range(0, n_train, batchsize):\n",
    "            batch_features = X_train_norm[batch_start:batch_start + batchsize]\n",
    "            batch_labels = y_train_bn[batch_start:batch_start + batchsize]\n",
    "            sess.run(optimizer, feed_dict={features:batch_features, labels:batch_labels, keep_prob: 0.3 })\n",
    "        if i%1 == 0:\n",
    "            test_accuracy = sess.run(accuracy, feed_dict={features: X_test_norm, labels: y_test_bn, keep_prob: 1.0})\n",
    "            valid_accuracy = sess.run(accuracy, feed_dict={features: X_valid_norm, labels: y_valid_bn, keep_prob: 1.0})\n",
    "            print('Epoch {} - Validation Accuracy: {}, Test_accuracy: {}'.format(i,valid_accuracy,test_accuracy))\n",
    "            if n == 0:\n",
    "                saver.save(sess, save_file)\n",
    "                n = n+1\n",
    "                cache_accuracy = test_accuracy\n",
    "                print('Model saved', test_accuracy)\n",
    "            else:\n",
    "                if test_accuracy>cache_accuracy:\n",
    "                    saver.save(sess, save_file)\n",
    "                    cache_accuracy = test_accuracy\n",
    "                    print('Model saved', test_accuracy)"
   ]
  },
  {
   "cell_type": "code",
   "execution_count": 12,
   "metadata": {},
   "outputs": [
    {
     "name": "stdout",
     "output_type": "stream",
     "text": [
      "INFO:tensorflow:Restoring parameters from ./model_save/MyNet.ckpt\n",
      "Train Accuracy: 1.0, Validation Accuracy: 0.9879818558692932, Test_accuracy: 0.9768012762069702\n"
     ]
    }
   ],
   "source": [
    "# Calculate the accuracy of train dataset, validation dataset and test dataset\n",
    "tf.reset_default_graph()\n",
    "features = tf.placeholder(tf.float32, shape=[None, 32, 32, 1])\n",
    "labels = tf.placeholder(tf.float32, shape=[None, 43])\n",
    "keep_prob = tf.placeholder(tf.float32, shape=[])\n",
    "logits = MyNet(features, keep_prob)\n",
    "loss = tf.reduce_mean(tf.losses.softmax_cross_entropy(\n",
    "    onehot_labels=labels, logits=logits))\n",
    "correct_prediction = tf.equal(tf.argmax(logits,1), tf.argmax(labels,1))\n",
    "accuracy = tf.reduce_mean(tf.cast(correct_prediction, 'float32'))\n",
    "optimizer = tf.train.AdamOptimizer(learning_rate=0.001).minimize(loss)\n",
    "batchsize = 5000\n",
    "n = 0\n",
    "cache_accuracy = 0.0\n",
    "train_accuracy = []\n",
    "save_file = './model_save/MyNet.ckpt'\n",
    "saver = tf.train.Saver()\n",
    "with tf.Session() as sess:\n",
    "    # sess.run(tf.global_variables_initializer())\n",
    "    saver.restore(sess, save_file)\n",
    "    for batch_start in range(0, n_train, batchsize):\n",
    "        batch_features = X_train_norm[batch_start:batch_start + batchsize]\n",
    "        batch_labels = y_train_bn[batch_start:batch_start + batchsize]\n",
    "        train_accuracy.append(sess.run(accuracy, feed_dict={features:batch_features, labels:batch_labels, keep_prob: 1.0 }))\n",
    "    test_accuracy = sess.run(accuracy, feed_dict={features: X_test_norm, labels: y_test_bn, keep_prob: 1.0})\n",
    "    valid_accuracy = sess.run(accuracy, feed_dict={features: X_valid_norm, labels: y_valid_bn, keep_prob: 1.0})\n",
    "    print('Train Accuracy: {}, Validation Accuracy: {}, Test_accuracy: {}'.format(np.mean(train_accuracy),valid_accuracy,test_accuracy))"
   ]
  },
  {
   "cell_type": "markdown",
   "metadata": {},
   "source": [
    "---\n",
    "\n",
    "## Step 3: Test a Model on New Images\n",
    "\n",
    "To give yourself more insight into how your model is working, download at least five pictures of German traffic signs from the web and use your model to predict the traffic sign type.\n",
    "\n",
    "You may find `signnames.csv` useful as it contains mappings from the class id (integer) to the actual sign name."
   ]
  },
  {
   "cell_type": "markdown",
   "metadata": {},
   "source": [
    "### Load and Output the Images"
   ]
  },
  {
   "cell_type": "code",
   "execution_count": 13,
   "metadata": {},
   "outputs": [],
   "source": [
    "### Load the images and plot them here.\n",
    "### Feel free to use as many code cells as needed.\n",
    "from PIL import Image\n",
    "import os\n",
    "\n",
    "def img_read_resize(image_dir):\n",
    "    image_files=[f for f in os.listdir(image_dir) if f[-3:] == 'png']\n",
    "    image_list=[]\n",
    "    for f in image_files:\n",
    "        im = Image.open(image_dir + f)\n",
    "        im = im.resize([32,32])\n",
    "        image_list.append(np.array(im))\n",
    "    return image_list\n",
    "\n",
    "image_list=img_read_resize('./Sample_images/')"
   ]
  },
  {
   "cell_type": "code",
   "execution_count": 14,
   "metadata": {},
   "outputs": [
    {
     "data": {
      "image/png": "[encoded data removed]",
      "text/plain": [
       "<Figure size 432x288 with 5 Axes>"
      ]
     },
     "metadata": {},
     "output_type": "display_data"
    }
   ],
   "source": [
    "for i in range(len(image_list)):\n",
    "    plt.subplot(2,3,i+1)\n",
    "    plt.imshow(image_list[i])"
   ]
  },
  {
   "cell_type": "markdown",
   "metadata": {},
   "source": [
    "### Predict the Sign Type for Each Image"
   ]
  },
  {
   "cell_type": "code",
   "execution_count": 15,
   "metadata": {},
   "outputs": [],
   "source": [
    "image_gray_list = []\n",
    "for i in range(len(image_list)):\n",
    "    image = cv2.cvtColor(image_list[i], cv2.COLOR_RGB2GRAY).reshape([32,32,1])\n",
    "    image_gray_list.append(image)\n",
    "img_norm_gray = normalize(image_gray_list)"
   ]
  },
  {
   "cell_type": "code",
   "execution_count": 16,
   "metadata": {},
   "outputs": [
    {
     "name": "stdout",
     "output_type": "stream",
     "text": [
      "INFO:tensorflow:Restoring parameters from ./model_save/MyNet.ckpt\n",
      "CLASS: 36\n",
      "CLASS: 14\n",
      "CLASS: 1\n",
      "CLASS: 11\n",
      "CLASS: 25\n"
     ]
    },
    {
     "data": {
      "image/png": "[encoded data removed]",
      "text/plain": [
       "<Figure size 432x288 with 5 Axes>"
      ]
     },
     "metadata": {},
     "output_type": "display_data"
    }
   ],
   "source": [
    "tf.reset_default_graph()\n",
    "features = tf.placeholder(tf.float32, shape=[None, 32, 32, 1])\n",
    "labels = tf.placeholder(tf.float32, shape=[None, 43])\n",
    "keep_prob = tf.placeholder(tf.float32, shape=[])\n",
    "logits = MyNet(features, keep_prob)\n",
    "loss = tf.reduce_mean(tf.losses.softmax_cross_entropy(\n",
    "    onehot_labels=labels, logits=logits))\n",
    "correct_prediction = tf.equal(tf.argmax(logits,1), tf.argmax(labels,1))\n",
    "accuracy = tf.reduce_mean(tf.cast(correct_prediction, 'float32'))\n",
    "optimizer = tf.train.AdamOptimizer(learning_rate=0.001).minimize(loss)\n",
    "save_file = './model_save/MyNet.ckpt'\n",
    "saver = tf.train.Saver()\n",
    "with tf.Session() as sess:\n",
    "    saver.restore(sess, save_file)\n",
    "    for i in range(len(image_list)):\n",
    "        plt.subplot(2,3,i+1)\n",
    "        plt.imshow(image_list[i])\n",
    "    for image in img_norm_gray:\n",
    "        test_accuracy = sess.run(tf.nn.softmax(logits), feed_dict={features: image.reshape([1,32,32,1]), keep_prob: 1.0})\n",
    "        print('CLASS: {}'.format(np.argmax(test_accuracy)))\n",
    "        #print('CLASS: {}'.format(test_accuracy))"
   ]
  },
  {
   "cell_type": "markdown",
   "metadata": {},
   "source": [
    "### Analyze Performance"
   ]
  },
  {
   "cell_type": "markdown",
   "metadata": {
    "collapsed": true
   },
   "source": [
    "The model gives correct calssifications for image 1, 3 and 5. \n",
    "The classes of image 2 and 4 are not contained in the training data set and the model gives the results whose geometries are similar to the test images. \n",
    "\n",
    "For the known classes, the accuracy is 100%. And the overall accuracy for this test is 60%. "
   ]
  },
  {
   "cell_type": "markdown",
   "metadata": {},
   "source": [
    "### Output Top 5 Softmax Probabilities For Each Image Found on the Web"
   ]
  },
  {
   "cell_type": "markdown",
   "metadata": {},
   "source": [
    "For each of the new images, print out the model's softmax probabilities to show the **certainty** of the model's predictions (limit the output to the top 5 probabilities for each image). [`tf.nn.top_k`](https://www.tensorflow.org/versions/r0.12/api_docs/python/nn.html#top_k) could prove helpful here. \n",
    "\n",
    "The example below demonstrates how tf.nn.top_k can be used to find the top k predictions for each image.\n",
    "\n",
    "`tf.nn.top_k` will return the values and indices (class ids) of the top k predictions. So if k=3, for each sign, it'll return the 3 largest probabilities (out of a possible 43) and the correspoding class ids.\n",
    "\n",
    "Take this numpy array as an example. The values in the array represent predictions. The array contains softmax probabilities for five candidate images with six possible classes. `tf.nn.top_k` is used to choose the three classes with the highest probability:\n",
    "\n",
    "```\n",
    "# (5, 6) array\n",
    "a = np.array([[ 0.24879643,  0.07032244,  0.12641572,  0.34763842,  0.07893497,\n",
    "         0.12789202],\n",
    "       [ 0.28086119,  0.27569815,  0.08594638,  0.0178669 ,  0.18063401,\n",
    "         0.15899337],\n",
    "       [ 0.26076848,  0.23664738,  0.08020603,  0.07001922,  0.1134371 ,\n",
    "         0.23892179],\n",
    "       [ 0.11943333,  0.29198961,  0.02605103,  0.26234032,  0.1351348 ,\n",
    "         0.16505091],\n",
    "       [ 0.09561176,  0.34396535,  0.0643941 ,  0.16240774,  0.24206137,\n",
    "         0.09155967]])\n",
    "```\n",
    "\n",
    "Running it through `sess.run(tf.nn.top_k(tf.constant(a), k=3))` produces:\n",
    "\n",
    "```\n",
    "TopKV2(values=array([[ 0.34763842,  0.24879643,  0.12789202],\n",
    "       [ 0.28086119,  0.27569815,  0.18063401],\n",
    "       [ 0.26076848,  0.23892179,  0.23664738],\n",
    "       [ 0.29198961,  0.26234032,  0.16505091],\n",
    "       [ 0.34396535,  0.24206137,  0.16240774]]), indices=array([[3, 0, 5],\n",
    "       [0, 1, 4],\n",
    "       [0, 5, 1],\n",
    "       [1, 3, 5],\n",
    "       [1, 4, 3]], dtype=int32))\n",
    "```\n",
    "\n",
    "Looking just at the first row we get `[ 0.34763842,  0.24879643,  0.12789202]`, you can confirm these are the 3 largest probabilities in `a`. You'll also notice `[3, 0, 5]` are the corresponding indices."
   ]
  },
  {
   "cell_type": "code",
   "execution_count": 17,
   "metadata": {},
   "outputs": [
    {
     "name": "stdout",
     "output_type": "stream",
     "text": [
      "INFO:tensorflow:Restoring parameters from ./model_save/MyNet.ckpt\n",
      "class: [[36 34 17 28 24]], Probability: [[9.9997818e-01 1.9610003e-05 1.1300134e-06 3.5438489e-07 2.3833722e-07]]\n",
      "class: [[14  8 34 13  1]], Probability: [[1.0000000e+00 7.4234903e-09 2.8897824e-09 2.2151028e-09 1.2220085e-09]]\n",
      "class: [[ 1 39  0 38  2]], Probability: [[9.9973410e-01 1.1173737e-04 5.1527208e-05 4.9891849e-05 3.2953834e-05]]\n",
      "class: [[11 31 17 18 10]], Probability: [[1.0000000e+00 1.3826030e-28 5.1094927e-29 7.9245788e-30 3.0285087e-30]]\n",
      "class: [[25 38 24 31 18]], Probability: [[1.0000000e+00 1.4152221e-22 1.9554402e-24 1.8165970e-24 4.8543843e-25]]\n"
     ]
    },
    {
     "data": {
      "image/png": "[encoded data removed]",
      "text/plain": [
       "<Figure size 432x288 with 5 Axes>"
      ]
     },
     "metadata": {},
     "output_type": "display_data"
    }
   ],
   "source": [
    "tf.reset_default_graph()\n",
    "features = tf.placeholder(tf.float32, shape=[None, 32, 32, 1])\n",
    "labels = tf.placeholder(tf.float32, shape=[None, 43])\n",
    "keep_prob = tf.placeholder(tf.float32, shape=[])\n",
    "logits = MyNet(features, keep_prob)\n",
    "loss = tf.reduce_mean(tf.losses.softmax_cross_entropy(\n",
    "    onehot_labels=labels, logits=logits))\n",
    "correct_prediction = tf.equal(tf.argmax(logits,1), tf.argmax(labels,1))\n",
    "accuracy = tf.reduce_mean(tf.cast(correct_prediction, 'float32'))\n",
    "optimizer = tf.train.AdamOptimizer(learning_rate=0.001).minimize(loss)\n",
    "save_file = './model_save/MyNet.ckpt'\n",
    "saver = tf.train.Saver()\n",
    "with tf.Session() as sess:\n",
    "    saver.restore(sess, save_file)\n",
    "    for i in range(len(image_list)):\n",
    "        plt.subplot(2,3,i+1)\n",
    "        plt.imshow(image_list[i])\n",
    "    for image in img_norm_gray:\n",
    "        test_accuracy = sess.run(tf.nn.softmax(logits), feed_dict={features: image.reshape([1,32,32,1]), keep_prob: 1.0})\n",
    "        print('class: {}, Probability: {}'.format(sess.run(tf.nn.top_k(test_accuracy, 5).indices), sess.run(tf.nn.top_k(test_accuracy, 5).values)))"
   ]
  },
  {
   "cell_type": "markdown",
   "metadata": {},
   "source": [
    "### Project Writeup\n",
    "\n",
    "Once you have completed the code implementation, document your results in a project writeup using this [template](https://github.com/udacity/CarND-Traffic-Sign-Classifier-Project/blob/master/writeup_template.md) as a guide. The writeup can be in a markdown or pdf file. "
   ]
  },
  {
   "cell_type": "markdown",
   "metadata": {},
   "source": [
    "> **Note**: Once you have completed all of the code implementations and successfully answered each question above, you may finalize your work by exporting the iPython Notebook as an HTML document. You can do this by using the menu above and navigating to  \\n\",\n",
    "    \"**File -> Download as -> HTML (.html)**. Include the finished document along with this notebook as your submission."
   ]
  },
  {
   "cell_type": "markdown",
   "metadata": {},
   "source": [
    "---\n",
    "\n",
    "## Step 4 (Optional): Visualize the Neural Network's State with Test Images\n",
    "\n",
    " This Section is not required to complete but acts as an additional excersise for understaning the output of a neural network's weights. While neural networks can be a great learning device they are often referred to as a black box. We can understand what the weights of a neural network look like better by plotting their feature maps. After successfully training your neural network you can see what it's feature maps look like by plotting the output of the network's weight layers in response to a test stimuli image. From these plotted feature maps, it's possible to see what characteristics of an image the network finds interesting. For a sign, maybe the inner network feature maps react with high activation to the sign's boundary outline or to the contrast in the sign's painted symbol.\n",
    "\n",
    " Provided for you below is the function code that allows you to get the visualization output of any tensorflow weight layer you want. The inputs to the function should be a stimuli image, one used during training or a new one you provided, and then the tensorflow variable name that represents the layer's state during the training process, for instance if you wanted to see what the [LeNet lab's](https://classroom.udacity.com/nanodegrees/nd013/parts/fbf77062-5703-404e-b60c-95b78b2f3f9e/modules/6df7ae49-c61c-4bb2-a23e-6527e69209ec/lessons/601ae704-1035-4287-8b11-e2c2716217ad/concepts/d4aca031-508f-4e0b-b493-e7b706120f81) feature maps looked like for it's second convolutional layer you could enter conv2 as the tf_activation variable.\n",
    "\n",
    "For an example of what feature map outputs look like, check out NVIDIA's results in their paper [End-to-End Deep Learning for Self-Driving Cars](https://devblogs.nvidia.com/parallelforall/deep-learning-self-driving-cars/) in the section Visualization of internal CNN State. NVIDIA was able to show that their network's inner weights had high activations to road boundary lines by comparing feature maps from an image with a clear path to one without. Try experimenting with a similar test to show that your trained network's weights are looking for interesting features, whether it's looking at differences in feature maps from images with or without a sign, or even what feature maps look like in a trained network vs a completely untrained one on the same sign image.\n",
    "\n",
    "<figure>\n",
    " <img src=\"visualize_cnn.png\" width=\"380\" alt=\"Combined Image\" />\n",
    " <figcaption>\n",
    " <p></p> \n",
    " <p style=\"text-align: center;\"> Your output should look something like this (above)</p> \n",
    " </figcaption>\n",
    "</figure>\n",
    " <p></p> \n"
   ]
  },
  {
   "cell_type": "code",
   "execution_count": 18,
   "metadata": {},
   "outputs": [],
   "source": [
    "### Visualize your network's feature maps here.\n",
    "### Feel free to use as many code cells as needed.\n",
    "\n",
    "# image_input: the test image being fed into the network to produce the feature maps\n",
    "# tf_activation: should be a tf variable name used during your training procedure that represents the calculated state of a specific weight layer\n",
    "# activation_min/max: can be used to view the activation contrast in more detail, by default matplot sets min and max to the actual min and max values of the output\n",
    "# plt_num: used to plot out multiple different weight feature map sets on the same block, just extend the plt number for each new feature map entry\n",
    "\n",
    "def outputFeatureMap(image_input, tf_activation, activation_min=-1, activation_max=-1 ,plt_num=1):\n",
    "    # Here make sure to preprocess your image_input in a way your network expects\n",
    "    # with size, normalization, ect if needed\n",
    "    # image_input =\n",
    "    # Note: x should be the same name as your network's tensorflow data placeholder variable\n",
    "    # If you get an error tf_activation is not defined it may be having trouble accessing the variable from inside a function\n",
    "    activation = tf_activation.eval(session=sess,feed_dict={features : image_input})\n",
    "    featuremaps = activation.shape[3]\n",
    "    plt.figure(plt_num, figsize=(15,15))\n",
    "    for featuremap in range(featuremaps):\n",
    "        plt.subplot(4,8, featuremap+1) # sets the number of feature maps to show on each row and column\n",
    "        plt.title('FeatureMap ' + str(featuremap)) # displays the feature map number\n",
    "        if activation_min != -1 & activation_max != -1:\n",
    "            plt.imshow(activation[0,:,:, featuremap], interpolation=\"nearest\", vmin =activation_min, vmax=activation_max, cmap=\"gray\")\n",
    "        elif activation_max != -1:\n",
    "            plt.imshow(activation[0,:,:, featuremap], interpolation=\"nearest\", vmax=activation_max, cmap=\"gray\")\n",
    "        elif activation_min !=-1:\n",
    "            plt.imshow(activation[0,:,:, featuremap], interpolation=\"nearest\", vmin=activation_min, cmap=\"gray\")\n",
    "        else:\n",
    "            plt.imshow(activation[0,:,:, featuremap], interpolation=\"nearest\", cmap=\"gray\")"
   ]
  },
  {
   "cell_type": "code",
   "execution_count": 19,
   "metadata": {},
   "outputs": [
    {
     "name": "stdout",
     "output_type": "stream",
     "text": [
      "INFO:tensorflow:Restoring parameters from ./model_save/MyNet.ckpt\n"
     ]
    },
    {
     "data": {
      "image/png": "[encoded data removed]",
      "text/plain": [
       "<Figure size 1080x1080 with 32 Axes>"
      ]
     },
     "metadata": {},
     "output_type": "display_data"
    }
   ],
   "source": [
    "tf.reset_default_graph()\n",
    "features = tf.placeholder(tf.float32, shape=[None, 32, 32, 1])\n",
    "labels = tf.placeholder(tf.float32, shape=[None, 43])\n",
    "keep_prob = tf.placeholder(tf.float32, shape=[])\n",
    "# nn\n",
    "conv1 = conv(features, 1, 32, padding='same') #[？,32,32,32]\n",
    "conv1_1 = conv(conv1, 3, 32, padding='same')    #[？,32,32,32]\n",
    "conv1_2 = conv(conv1_1, 3, 32, padding='same')    #[？,32,32,32]\n",
    "conv1_3 = conv(conv1_2, 3, 32, padding='same')    #[？,32,32,32]    \n",
    "pool1 = pool(conv1_3, 2, 2)                     #[？,16,16,32]\n",
    "conv2 = conv(pool1, 3, 32, padding='same')    #[？,16,16,32]\n",
    "conv2 = conv(conv2, 3, 32, padding='same')    #[？,16,16,32]\n",
    "conv2 = conv(conv2, 3, 32, padding='same')    #[？,16,16,32]\n",
    "pool2 = pool(conv2, 2, 2)                     #[？,8,8,32]\n",
    "conv3 = conv(pool2, 3, 32, padding='same')    #[？,8,8,32]\n",
    "conv3 = conv(pool2, 3, 32, padding='same')    #[？,8,8,32]\n",
    "conv3 = conv(conv3, 3, 32, padding='same')    #[？,8,8,32]\n",
    "pool3 = pool(conv3, 2, 2)                     #[？,4,4,32]\n",
    "conv4 = conv(pool3, 4, 512)\n",
    "conv4_flat = tf.reshape(conv4, [-1, 512])\n",
    "conv4_flat = tf.nn.dropout(conv4_flat, keep_prob=keep_prob)\n",
    "fc1 = fc(conv4_flat, 120)\n",
    "fc1 = tf.nn.dropout(fc1, keep_prob=keep_prob)\n",
    "logits = fc(fc1, 43, activation='off')\n",
    "######\n",
    "loss = tf.reduce_mean(tf.losses.softmax_cross_entropy(\n",
    "    onehot_labels=labels, logits=logits))\n",
    "correct_prediction = tf.equal(tf.argmax(logits,1), tf.argmax(labels,1))\n",
    "accuracy = tf.reduce_mean(tf.cast(correct_prediction, 'float32'))\n",
    "optimizer = tf.train.AdamOptimizer(learning_rate=0.001).minimize(loss)\n",
    "save_file = './model_save/MyNet.ckpt'\n",
    "saver = tf.train.Saver()\n",
    "with tf.Session() as sess:\n",
    "    # sess.run(tf.global_variables_initializer())\n",
    "    saver.restore(sess, save_file)\n",
    "    outputFeatureMap(img_norm_gray[0].reshape([1,32,32,1]), conv1_1)\n",
    "    plt.subplots_adjust(wspace=0, hspace=-0.6)"
   ]
  },
  {
   "cell_type": "code",
   "execution_count": 20,
   "metadata": {},
   "outputs": [
    {
     "name": "stdout",
     "output_type": "stream",
     "text": [
      "INFO:tensorflow:Restoring parameters from ./model_save/MyNet.ckpt\n"
     ]
    },
    {
     "data": {
      "image/png": "[encoded data removed]",
      "text/plain": [
       "<Figure size 1080x1080 with 32 Axes>"
      ]
     },
     "metadata": {},
     "output_type": "display_data"
    }
   ],
   "source": [
    "tf.reset_default_graph()\n",
    "features = tf.placeholder(tf.float32, shape=[None, 32, 32, 1])\n",
    "labels = tf.placeholder(tf.float32, shape=[None, 43])\n",
    "keep_prob = tf.placeholder(tf.float32, shape=[])\n",
    "# nn\n",
    "conv1 = conv(features, 1, 32, padding='same') #[？,32,32,32]\n",
    "conv1_1 = conv(conv1, 3, 32, padding='same')    #[？,32,32,32]\n",
    "conv1_2 = conv(conv1_1, 3, 32, padding='same')    #[？,32,32,32]\n",
    "conv1_3 = conv(conv1_2, 3, 32, padding='same')    #[？,32,32,32]    \n",
    "pool1 = pool(conv1_3, 2, 2)                     #[？,16,16,32]\n",
    "conv2 = conv(pool1, 3, 32, padding='same')    #[？,16,16,32]\n",
    "conv2 = conv(conv2, 3, 32, padding='same')    #[？,16,16,32]\n",
    "conv2 = conv(conv2, 3, 32, padding='same')    #[？,16,16,32]\n",
    "pool2 = pool(conv2, 2, 2)                     #[？,8,8,32]\n",
    "conv3 = conv(pool2, 3, 32, padding='same')    #[？,8,8,32]\n",
    "conv3 = conv(pool2, 3, 32, padding='same')    #[？,8,8,32]\n",
    "conv3 = conv(conv3, 3, 32, padding='same')    #[？,8,8,32]\n",
    "pool3 = pool(conv3, 2, 2)                     #[？,4,4,32]\n",
    "conv4 = conv(pool3, 4, 512)\n",
    "conv4_flat = tf.reshape(conv4, [-1, 512])\n",
    "conv4_flat = tf.nn.dropout(conv4_flat, keep_prob=keep_prob)\n",
    "fc1 = fc(conv4_flat, 120)\n",
    "fc1 = tf.nn.dropout(fc1, keep_prob=keep_prob)\n",
    "logits = fc(fc1, 43, activation='off')\n",
    "######\n",
    "loss = tf.reduce_mean(tf.losses.softmax_cross_entropy(\n",
    "    onehot_labels=labels, logits=logits))\n",
    "correct_prediction = tf.equal(tf.argmax(logits,1), tf.argmax(labels,1))\n",
    "accuracy = tf.reduce_mean(tf.cast(correct_prediction, 'float32'))\n",
    "optimizer = tf.train.AdamOptimizer(learning_rate=0.001).minimize(loss)\n",
    "save_file = './model_save/MyNet.ckpt'\n",
    "saver = tf.train.Saver()\n",
    "with tf.Session() as sess:\n",
    "    # sess.run(tf.global_variables_initializer())\n",
    "    saver.restore(sess, save_file)\n",
    "    outputFeatureMap(img_norm_gray[0].reshape([1,32,32,1]), conv3)\n",
    "    plt.subplots_adjust(wspace=0, hspace=-0.6)"
   ]
  }
 ],
 "metadata": {
  "anaconda-cloud": {},
  "kernelspec": {
   "display_name": "Python 3",
   "language": "python",
   "name": "python3"
  },
  "language_info": {
   "codemirror_mode": {
    "name": "ipython",
    "version": 3
   },
   "file_extension": ".py",
   "mimetype": "text/x-python",
   "name": "python",
   "nbconvert_exporter": "python",
   "pygments_lexer": "ipython3",
   "version": "3.5.2"
  }
 },
 "nbformat": 4,
 "nbformat_minor": 1
}
